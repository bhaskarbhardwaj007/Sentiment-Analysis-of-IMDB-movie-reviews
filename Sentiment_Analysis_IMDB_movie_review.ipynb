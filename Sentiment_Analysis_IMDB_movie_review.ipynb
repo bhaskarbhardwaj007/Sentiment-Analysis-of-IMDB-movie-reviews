{
  "nbformat": 4,
  "nbformat_minor": 0,
  "metadata": {
    "kernelspec": {
      "display_name": "Python 3",
      "language": "python",
      "name": "python3"
    },
    "language_info": {
      "codemirror_mode": {
        "name": "ipython",
        "version": 3
      },
      "file_extension": ".py",
      "mimetype": "text/x-python",
      "name": "python",
      "nbconvert_exporter": "python",
      "pygments_lexer": "ipython3",
      "version": "3.7.3"
    },
    "colab": {
      "name": "Sentiment_Analysis_IMDB_movie_review.ipynb",
      "provenance": [],
      "collapsed_sections": []
    },
    "accelerator": "GPU"
  },
  "cells": [
    {
      "cell_type": "markdown",
      "metadata": {
        "id": "Vftw6QGaCUoS"
      },
      "source": [
        "<h1 align=center><font size=5>Sentiment Analysis of IMDB Movie Reviews</font></h1>"
      ]
    },
    {
      "cell_type": "markdown",
      "metadata": {
        "id": "TyhnVPO-CUoT"
      },
      "source": [
        "Sentiment Analysis of IMDB Movie Reviews with ANN, CNN, LSTM, Bidirectional LSTM and CNN LSTM models."
      ]
    },
    {
      "cell_type": "markdown",
      "metadata": {
        "id": "BT9dkZRXCUoV"
      },
      "source": [
        "### Data <a id=\"data\"></a>\n",
        "\n",
        "#### About IMDB movie reviews\n",
        "\n",
        "Dataset of 25,000 movies reviews from IMDB, labeled by sentiment (positive or negative). Reviews have been preprocessed, each review is encoded as a sequence of word indexes i.e integers. For convenience, words are indexed by overall frequency in the dataset, so that for instance the integer \"3\" encodes the 3rd most frequent word in the data. As a convention, \"0\" does not stand for a specific word, but instead is used to encode any unknown word."
      ]
    },
    {
      "cell_type": "markdown",
      "metadata": {
        "id": "fISBPRKkCUoW"
      },
      "source": [
        "####  Load IMDB dataset\n",
        "Load the dataset in keras with having the top 5,000 most common words."
      ]
    },
    {
      "cell_type": "code",
      "metadata": {
        "id": "vDEE0CnlCUoX",
        "outputId": "ea0eaa60-0d23-47aa-dfd7-ff2f73b9d8f4",
        "colab": {
          "base_uri": "https://localhost:8080/",
          "height": 50
        }
      },
      "source": [
        "from keras.datasets import imdb\n",
        "\n",
        "vocab_size = 5000 \n",
        "(X_train, y_train), (X_test, y_test) = imdb.load_data(num_words= vocab_size)\n",
        "\n",
        "print(len(X_train), 'train sequences')\n",
        "print(len(X_test), 'test sequences')"
      ],
      "execution_count": null,
      "outputs": [
        {
          "output_type": "stream",
          "text": [
            "25000 train sequences\n",
            "25000 test sequences\n"
          ],
          "name": "stdout"
        }
      ]
    },
    {
      "cell_type": "markdown",
      "metadata": {
        "id": "ASXhg85pCUoh"
      },
      "source": [
        "Convert the integers back to words"
      ]
    },
    {
      "cell_type": "code",
      "metadata": {
        "id": "Pga4lVmNCUoi",
        "outputId": "ff1da393-032f-4dcd-9e0c-b34425db91da",
        "colab": {
          "base_uri": "https://localhost:8080/",
          "height": 118
        }
      },
      "source": [
        "word_index = imdb.get_word_index() # {'fawn': 34701, 'tsukino': 52006, 'nunnery': 52007,...}\n",
        "\n",
        "INDEX_FROM = 3\n",
        "word_index = {key:(value+INDEX_FROM) for key,value in word_index.items()}\n",
        "word_index[\"<PAD>\"] = 0    \n",
        "word_index[\"<START>\"] = 1  \n",
        "word_index[\"<UNK>\"] = 2    \n",
        "\n",
        "\n",
        "reverse_word_index = {value:key for key, value in word_index.items()} \n",
        "# {34704: 'fawn', 52009: 'tsukino',52010: 'nunnery', ..}\n",
        "\n",
        "def decode_review(text):\n",
        "    return ' '.join([reverse_word_index.get(i, '?') for i in text])\n",
        "\n",
        "decode_review(X_train[0])"
      ],
      "execution_count": null,
      "outputs": [
        {
          "output_type": "execute_result",
          "data": {
            "application/vnd.google.colaboratory.intrinsic": {
              "type": "string"
            },
            "text/plain": [
              "\"<START> this film was just brilliant casting location scenery story direction everyone's really suited the part they played and you could just imagine being there robert <UNK> is an amazing actor and now the same being director <UNK> father came from the same scottish island as myself so i loved the fact there was a real connection with this film the witty remarks throughout the film were great it was just brilliant so much that i bought the film as soon as it was released for <UNK> and would recommend it to everyone to watch and the fly <UNK> was amazing really cried at the end it was so sad and you know what they say if you cry at a film it must have been good and this definitely was also <UNK> to the two little <UNK> that played the <UNK> of norman and paul they were just brilliant children are often left out of the <UNK> list i think because the stars that play them all grown up are such a big <UNK> for the whole film but these children are amazing and should be <UNK> for what they have done don't you think the whole story was so lovely because it was true and was someone's life after all that was <UNK> with us all\""
            ]
          },
          "metadata": {
            "tags": []
          },
          "execution_count": 16
        }
      ]
    },
    {
      "cell_type": "markdown",
      "metadata": {
        "id": "ifyny57cCUom"
      },
      "source": [
        "#### Truncate and pad the data."
      ]
    },
    {
      "cell_type": "code",
      "metadata": {
        "id": "RE3OQ_OdCUom",
        "outputId": "72dde88f-e1e1-421e-fd71-bc6bb9d74583",
        "colab": {
          "base_uri": "https://localhost:8080/",
          "height": 50
        }
      },
      "source": [
        "from keras.preprocessing.sequence import pad_sequences\n",
        "\n",
        "max_length = 500 \n",
        "\n",
        "X_train = pad_sequences(X_train, value= word_index[\"<PAD>\"], padding= 'post', maxlen= max_length)\n",
        "X_test = pad_sequences(X_test, value= word_index[\"<PAD>\"], padding= 'post', maxlen= max_length)\n",
        "\n",
        "print('X_train shape:', X_train.shape) # (n_samples, sequence_length)\n",
        "print('X_test shape:', X_test.shape)"
      ],
      "execution_count": null,
      "outputs": [
        {
          "output_type": "stream",
          "text": [
            "X_train shape: (25000, 500)\n",
            "X_test shape: (25000, 500)\n"
          ],
          "name": "stdout"
        }
      ]
    },
    {
      "cell_type": "markdown",
      "metadata": {
        "id": "43PLWdzdCUop"
      },
      "source": [
        "Have a look at a sample of dataset."
      ]
    },
    {
      "cell_type": "code",
      "metadata": {
        "id": "R8FM_DvWCUoq",
        "outputId": "4b09c30b-be03-4bf7-f9dd-5aef1063e71a",
        "colab": {
          "base_uri": "https://localhost:8080/",
          "height": 617
        }
      },
      "source": [
        "print(X_train[0])"
      ],
      "execution_count": null,
      "outputs": [
        {
          "output_type": "stream",
          "text": [
            "[   1   14   22   16   43  530  973 1622 1385   65  458 4468   66 3941\n",
            "    4  173   36  256    5   25  100   43  838  112   50  670    2    9\n",
            "   35  480  284    5  150    4  172  112  167    2  336  385   39    4\n",
            "  172 4536 1111   17  546   38   13  447    4  192   50   16    6  147\n",
            " 2025   19   14   22    4 1920 4613  469    4   22   71   87   12   16\n",
            "   43  530   38   76   15   13 1247    4   22   17  515   17   12   16\n",
            "  626   18    2    5   62  386   12    8  316    8  106    5    4 2223\n",
            "    2   16  480   66 3785   33    4  130   12   16   38  619    5   25\n",
            "  124   51   36  135   48   25 1415   33    6   22   12  215   28   77\n",
            "   52    5   14  407   16   82    2    8    4  107  117    2   15  256\n",
            "    4    2    7 3766    5  723   36   71   43  530  476   26  400  317\n",
            "   46    7    4    2 1029   13  104   88    4  381   15  297   98   32\n",
            " 2071   56   26  141    6  194    2   18    4  226   22   21  134  476\n",
            "   26  480    5  144   30    2   18   51   36   28  224   92   25  104\n",
            "    4  226   65   16   38 1334   88   12   16  283    5   16 4472  113\n",
            "  103   32   15   16    2   19  178   32    0    0    0    0    0    0\n",
            "    0    0    0    0    0    0    0    0    0    0    0    0    0    0\n",
            "    0    0    0    0    0    0    0    0    0    0    0    0    0    0\n",
            "    0    0    0    0    0    0    0    0    0    0    0    0    0    0\n",
            "    0    0    0    0    0    0    0    0    0    0    0    0    0    0\n",
            "    0    0    0    0    0    0    0    0    0    0    0    0    0    0\n",
            "    0    0    0    0    0    0    0    0    0    0    0    0    0    0\n",
            "    0    0    0    0    0    0    0    0    0    0    0    0    0    0\n",
            "    0    0    0    0    0    0    0    0    0    0    0    0    0    0\n",
            "    0    0    0    0    0    0    0    0    0    0    0    0    0    0\n",
            "    0    0    0    0    0    0    0    0    0    0    0    0    0    0\n",
            "    0    0    0    0    0    0    0    0    0    0    0    0    0    0\n",
            "    0    0    0    0    0    0    0    0    0    0    0    0    0    0\n",
            "    0    0    0    0    0    0    0    0    0    0    0    0    0    0\n",
            "    0    0    0    0    0    0    0    0    0    0    0    0    0    0\n",
            "    0    0    0    0    0    0    0    0    0    0    0    0    0    0\n",
            "    0    0    0    0    0    0    0    0    0    0    0    0    0    0\n",
            "    0    0    0    0    0    0    0    0    0    0    0    0    0    0\n",
            "    0    0    0    0    0    0    0    0    0    0    0    0    0    0\n",
            "    0    0    0    0    0    0    0    0    0    0    0    0    0    0\n",
            "    0    0    0    0    0    0    0    0    0    0]\n"
          ],
          "name": "stdout"
        }
      ]
    },
    {
      "cell_type": "markdown",
      "metadata": {
        "id": "Dt6yYggbCUos"
      },
      "source": [
        "###  ANN model <a id=\"ann\"></a>"
      ]
    },
    {
      "cell_type": "markdown",
      "metadata": {
        "id": "fgGwgpgvCUot"
      },
      "source": [
        "Model Creation"
      ]
    },
    {
      "cell_type": "code",
      "metadata": {
        "id": "sEpE3PwzCUou",
        "outputId": "a22456f2-455d-4eea-bfa8-34c4465cda93",
        "colab": {
          "base_uri": "https://localhost:8080/",
          "height": 283
        }
      },
      "source": [
        "from keras.models import Sequential\n",
        "from keras.layers import Embedding, Flatten, Dense\n",
        "\n",
        "embedding_dim = 16\n",
        "\n",
        "model = Sequential()\n",
        "\n",
        "model.add(Embedding(vocab_size, embedding_dim, input_length= max_length))\n",
        "model.add(Flatten())\n",
        "\n",
        "#model.add(GlobalAveragePooling1D()) # averages across the vector to flatten it out.\n",
        "\n",
        "model.add(Dense(units= 16, activation= 'relu'))\n",
        "\n",
        "#model.add(Dropout(0.2))\n",
        "\n",
        "model.add(Dense(units=1, activation='sigmoid'))\n",
        "\n",
        "model.summary()"
      ],
      "execution_count": null,
      "outputs": [
        {
          "output_type": "stream",
          "text": [
            "Model: \"sequential_2\"\n",
            "_________________________________________________________________\n",
            "Layer (type)                 Output Shape              Param #   \n",
            "=================================================================\n",
            "embedding_2 (Embedding)      (None, 500, 16)           80000     \n",
            "_________________________________________________________________\n",
            "flatten_2 (Flatten)          (None, 8000)              0         \n",
            "_________________________________________________________________\n",
            "dense_3 (Dense)              (None, 16)                128016    \n",
            "_________________________________________________________________\n",
            "dense_4 (Dense)              (None, 1)                 17        \n",
            "=================================================================\n",
            "Total params: 208,033\n",
            "Trainable params: 208,033\n",
            "Non-trainable params: 0\n",
            "_________________________________________________________________\n"
          ],
          "name": "stdout"
        }
      ]
    },
    {
      "cell_type": "markdown",
      "metadata": {
        "id": "91vqCIV4CUow"
      },
      "source": [
        "Compile and train the model."
      ]
    },
    {
      "cell_type": "code",
      "metadata": {
        "id": "aLN42c6vCUox",
        "outputId": "ae0baac2-fce5-4ba1-8d0b-605df67e5e58",
        "colab": {
          "base_uri": "https://localhost:8080/",
          "height": 420
        }
      },
      "source": [
        "model.compile(loss='binary_crossentropy',\n",
        "              optimizer='adam',\n",
        "              metrics=['accuracy'])\n",
        "\n",
        "\n",
        "batch_size = 32\n",
        "epochs = 10\n",
        "\n",
        "history = model.fit(X_train, y_train,\n",
        "          batch_size= batch_size,\n",
        "          epochs= epochs,\n",
        "          validation_split= 0.1)  "
      ],
      "execution_count": null,
      "outputs": [
        {
          "output_type": "stream",
          "text": [
            "/usr/local/lib/python3.6/dist-packages/tensorflow/python/framework/indexed_slices.py:434: UserWarning: Converting sparse IndexedSlices to a dense Tensor of unknown shape. This may consume a large amount of memory.\n",
            "  \"Converting sparse IndexedSlices to a dense Tensor of unknown shape. \"\n"
          ],
          "name": "stderr"
        },
        {
          "output_type": "stream",
          "text": [
            "Train on 22500 samples, validate on 2500 samples\n",
            "Epoch 1/10\n",
            "22500/22500 [==============================] - 4s 183us/step - loss: 0.4618 - accuracy: 0.7490 - val_loss: 0.3756 - val_accuracy: 0.8372\n",
            "Epoch 2/10\n",
            "22500/22500 [==============================] - 2s 103us/step - loss: 0.2076 - accuracy: 0.9203 - val_loss: 0.3590 - val_accuracy: 0.8544\n",
            "Epoch 3/10\n",
            "22500/22500 [==============================] - 2s 103us/step - loss: 0.0922 - accuracy: 0.9701 - val_loss: 0.4169 - val_accuracy: 0.8512\n",
            "Epoch 4/10\n",
            "22500/22500 [==============================] - 2s 102us/step - loss: 0.0276 - accuracy: 0.9943 - val_loss: 0.5152 - val_accuracy: 0.8560\n",
            "Epoch 5/10\n",
            "22500/22500 [==============================] - 2s 100us/step - loss: 0.0074 - accuracy: 0.9993 - val_loss: 0.5875 - val_accuracy: 0.8568\n",
            "Epoch 6/10\n",
            "22500/22500 [==============================] - 2s 102us/step - loss: 0.0024 - accuracy: 0.9999 - val_loss: 0.6807 - val_accuracy: 0.8480\n",
            "Epoch 7/10\n",
            "22500/22500 [==============================] - 2s 102us/step - loss: 0.0013 - accuracy: 0.9999 - val_loss: 0.7023 - val_accuracy: 0.8588\n",
            "Epoch 8/10\n",
            "22500/22500 [==============================] - 2s 101us/step - loss: 4.6063e-04 - accuracy: 1.0000 - val_loss: 0.7436 - val_accuracy: 0.8580\n",
            "Epoch 9/10\n",
            "22500/22500 [==============================] - 2s 101us/step - loss: 2.5897e-04 - accuracy: 1.0000 - val_loss: 0.7795 - val_accuracy: 0.8596\n",
            "Epoch 10/10\n",
            "22500/22500 [==============================] - 2s 104us/step - loss: 1.6161e-04 - accuracy: 1.0000 - val_loss: 0.8124 - val_accuracy: 0.8564\n"
          ],
          "name": "stdout"
        }
      ]
    },
    {
      "cell_type": "markdown",
      "metadata": {
        "id": "nmmEtEqtCUo0"
      },
      "source": [
        "Evaluate the model over test set."
      ]
    },
    {
      "cell_type": "code",
      "metadata": {
        "id": "KjIN2hC-CUo1",
        "outputId": "499d91a9-953b-462d-d25d-c7ae16e0d6f8",
        "colab": {
          "base_uri": "https://localhost:8080/",
          "height": 67
        }
      },
      "source": [
        "score, acc = model.evaluate(X_test, y_test)\n",
        "print('Test score:', score)\n",
        "print('Test accuracy:', acc)"
      ],
      "execution_count": null,
      "outputs": [
        {
          "output_type": "stream",
          "text": [
            "25000/25000 [==============================] - 1s 50us/step\n",
            "Test score: 0.819623512929529\n",
            "Test accuracy: 0.8487600088119507\n"
          ],
          "name": "stdout"
        }
      ]
    },
    {
      "cell_type": "markdown",
      "metadata": {
        "id": "-b5FRUsqCUo6"
      },
      "source": [
        "Plot loss and accuracy metrics versus training epochs for both training and validation sets."
      ]
    },
    {
      "cell_type": "code",
      "metadata": {
        "id": "T8RJosJiCUo6",
        "outputId": "e8caa703-cbd8-4faf-a9af-18222ab554f4",
        "colab": {
          "base_uri": "https://localhost:8080/",
          "height": 334
        }
      },
      "source": [
        "import matplotlib.pyplot as plt\n",
        "%matplotlib inline\n",
        "\n",
        "def plot_model(history):\n",
        "    loss_train = history.history['loss']\n",
        "    loss_vald = history.history['val_loss']\n",
        "\n",
        "    acc_train = history.history['accuracy']\n",
        "    acc_vald = history.history['val_accuracy']\n",
        "\n",
        "    epochs = range(1, len(loss_train)+1)\n",
        "\n",
        "    plt.figure(figsize=(10, 5))\n",
        "    plt.subplot(1,2,1)\n",
        "    plt.plot(epochs, loss_train,'r')\n",
        "    plt.plot(epochs, loss_vald,'b')\n",
        "    plt.ylabel('Loss')\n",
        "    plt.xlabel('Epoch')\n",
        "    plt.legend(['Training', 'Validation'], loc='best')\n",
        "\n",
        "    plt.subplot(1,2,2)\n",
        "    plt.plot(epochs, acc_train,'r')\n",
        "    plt.plot(epochs, acc_vald,'b')\n",
        "    plt.ylabel('Accuracy')\n",
        "    plt.xlabel('Epoch')\n",
        "    plt.legend(['Training', 'Validation'], loc='best')\n",
        "    plt.show()\n",
        "    \n",
        "plot_model(history)"
      ],
      "execution_count": null,
      "outputs": [
        {
          "output_type": "display_data",
          "data": {
            "image/png": "[encoded data removed]",
            "text/plain": [
              "<Figure size 720x360 with 2 Axes>"
            ]
          },
          "metadata": {
            "tags": [],
            "needs_background": "light"
          }
        }
      ]
    },
    {
      "cell_type": "markdown",
      "metadata": {
        "id": "gjoDcVqRCUpH"
      },
      "source": [
        "###  CNN model <a id=\"cnn\"></a>"
      ]
    },
    {
      "cell_type": "code",
      "metadata": {
        "id": "9K-lUpKeCUpI",
        "outputId": "fa4e1861-d9ce-4fd0-fae7-83a18fa5fa84",
        "colab": {
          "base_uri": "https://localhost:8080/",
          "height": 399
        }
      },
      "source": [
        "from keras.models import Sequential\n",
        "from keras.layers import Embedding, Dropout, Conv1D, GlobalMaxPooling1D, Dense\n",
        "\n",
        "embedding_dim = 16\n",
        "\n",
        "model = Sequential()\n",
        "\n",
        "model.add(Embedding(vocab_size, embedding_dim, input_length= max_length))\n",
        "model.add(Dropout(0.2))\n",
        "\n",
        "model.add(Conv1D(filters = 128, kernel_size = 5, strides= 1, padding='same', activation= 'relu'))\n",
        "\n",
        "model.add(GlobalMaxPooling1D())\n",
        "\n",
        "model.add(Dense(units= 256, activation= 'relu'))\n",
        "model.add(Dropout(0.2))\n",
        "\n",
        "model.add(Dense(units=1, activation='sigmoid'))\n",
        "\n",
        "model.summary()"
      ],
      "execution_count": null,
      "outputs": [
        {
          "output_type": "stream",
          "text": [
            "Model: \"sequential_2\"\n",
            "_________________________________________________________________\n",
            "Layer (type)                 Output Shape              Param #   \n",
            "=================================================================\n",
            "embedding_2 (Embedding)      (None, 500, 16)           80000     \n",
            "_________________________________________________________________\n",
            "dropout_1 (Dropout)          (None, 500, 16)           0         \n",
            "_________________________________________________________________\n",
            "conv1d_1 (Conv1D)            (None, 500, 128)          10368     \n",
            "_________________________________________________________________\n",
            "global_max_pooling1d_1 (Glob (None, 128)               0         \n",
            "_________________________________________________________________\n",
            "dense_3 (Dense)              (None, 256)               33024     \n",
            "_________________________________________________________________\n",
            "dropout_2 (Dropout)          (None, 256)               0         \n",
            "_________________________________________________________________\n",
            "dense_4 (Dense)              (None, 1)                 257       \n",
            "=================================================================\n",
            "Total params: 123,649\n",
            "Trainable params: 123,649\n",
            "Non-trainable params: 0\n",
            "_________________________________________________________________\n"
          ],
          "name": "stdout"
        }
      ]
    },
    {
      "cell_type": "code",
      "metadata": {
        "id": "PXYihV69CUpK",
        "outputId": "c06b1fbc-2aff-4544-9b7c-fa16f6840876",
        "colab": {
          "base_uri": "https://localhost:8080/",
          "height": 193
        }
      },
      "source": [
        "model.compile(loss='binary_crossentropy',\n",
        "              optimizer='adam',\n",
        "              metrics=['accuracy'])\n",
        "\n",
        "batch_size = 32\n",
        "epochs = 3\n",
        "\n",
        "history = model.fit(X_train, y_train,\n",
        "          batch_size= batch_size,\n",
        "          epochs= epochs,\n",
        "          validation_split= 0.1)         "
      ],
      "execution_count": null,
      "outputs": [
        {
          "output_type": "stream",
          "text": [
            "/usr/local/lib/python3.6/dist-packages/tensorflow/python/framework/indexed_slices.py:434: UserWarning: Converting sparse IndexedSlices to a dense Tensor of unknown shape. This may consume a large amount of memory.\n",
            "  \"Converting sparse IndexedSlices to a dense Tensor of unknown shape. \"\n"
          ],
          "name": "stderr"
        },
        {
          "output_type": "stream",
          "text": [
            "Train on 22500 samples, validate on 2500 samples\n",
            "Epoch 1/3\n",
            "22500/22500 [==============================] - 8s 343us/step - loss: 0.4596 - accuracy: 0.7573 - val_loss: 0.2875 - val_accuracy: 0.8844\n",
            "Epoch 2/3\n",
            "22500/22500 [==============================] - 3s 137us/step - loss: 0.2587 - accuracy: 0.8945 - val_loss: 0.2512 - val_accuracy: 0.9024\n",
            "Epoch 3/3\n",
            "22500/22500 [==============================] - 3s 138us/step - loss: 0.1974 - accuracy: 0.9225 - val_loss: 0.2443 - val_accuracy: 0.9088\n"
          ],
          "name": "stdout"
        }
      ]
    },
    {
      "cell_type": "code",
      "metadata": {
        "id": "BG5Zm7VACUpN",
        "outputId": "dd4db15d-922c-4774-ae0c-1b333ea240c8",
        "colab": {
          "base_uri": "https://localhost:8080/",
          "height": 334
        }
      },
      "source": [
        "plot_model(history)"
      ],
      "execution_count": null,
      "outputs": [
        {
          "output_type": "display_data",
          "data": {
            "image/png": "[encoded data removed]",
            "text/plain": [
              "<Figure size 720x360 with 2 Axes>"
            ]
          },
          "metadata": {
            "tags": [],
            "needs_background": "light"
          }
        }
      ]
    },
    {
      "cell_type": "code",
      "metadata": {
        "id": "PcyajbhcCUpP",
        "outputId": "dda25e93-003c-470b-a886-db4e9356e516",
        "colab": {
          "base_uri": "https://localhost:8080/",
          "height": 69
        }
      },
      "source": [
        "score, acc = model.evaluate(X_test, y_test)\n",
        "print('Test score:', score)\n",
        "print('Test accuracy:', acc)"
      ],
      "execution_count": null,
      "outputs": [
        {
          "output_type": "stream",
          "text": [
            "25000/25000 [==============================] - 1s 46us/step\n",
            "Test score: 0.26104115900993347\n",
            "Test accuracy: 0.8945199847221375\n"
          ],
          "name": "stdout"
        }
      ]
    },
    {
      "cell_type": "markdown",
      "metadata": {
        "id": "zWZ517RbCUpU"
      },
      "source": [
        "###  LSTM model <a id=\"lstm\"></a>"
      ]
    },
    {
      "cell_type": "code",
      "metadata": {
        "id": "A4bbZsz-CUpY",
        "outputId": "98d99206-f1ed-4667-e73e-864a2a935b1a",
        "colab": {
          "base_uri": "https://localhost:8080/",
          "height": 250
        }
      },
      "source": [
        "from keras.layers import LSTM\n",
        "\n",
        "\n",
        "model = Sequential()\n",
        "\n",
        "model.add(Embedding(vocab_size, embedding_dim, input_length= max_length))\n",
        "#model.add(Dropout(0.2))\n",
        "\n",
        "model.add(LSTM(128, dropout= 0.2, recurrent_dropout= 0.2))\n",
        "model.add(Dense(1, activation= 'sigmoid'))\n",
        "\n",
        "model.summary()"
      ],
      "execution_count": null,
      "outputs": [
        {
          "output_type": "stream",
          "text": [
            "Model: \"sequential_3\"\n",
            "_________________________________________________________________\n",
            "Layer (type)                 Output Shape              Param #   \n",
            "=================================================================\n",
            "embedding_3 (Embedding)      (None, 500, 16)           80000     \n",
            "_________________________________________________________________\n",
            "lstm_1 (LSTM)                (None, 128)               74240     \n",
            "_________________________________________________________________\n",
            "dense_5 (Dense)              (None, 1)                 129       \n",
            "=================================================================\n",
            "Total params: 154,369\n",
            "Trainable params: 154,369\n",
            "Non-trainable params: 0\n",
            "_________________________________________________________________\n"
          ],
          "name": "stdout"
        }
      ]
    },
    {
      "cell_type": "code",
      "metadata": {
        "id": "w0xLv5GKCUpb",
        "outputId": "71f3149d-7d4a-47a9-d497-ab53e4a29961",
        "colab": {
          "base_uri": "https://localhost:8080/",
          "height": 187
        }
      },
      "source": [
        "model.compile(loss='binary_crossentropy',\n",
        "              optimizer='adam',\n",
        "              metrics=['accuracy'])\n",
        "\n",
        "batch_size = 128\n",
        "epochs = 3\n",
        "\n",
        "history = model.fit(X_train, y_train,\n",
        "          batch_size= batch_size,\n",
        "          epochs= epochs,\n",
        "          validation_split= 0.1)"
      ],
      "execution_count": null,
      "outputs": [
        {
          "output_type": "stream",
          "text": [
            "/usr/local/lib/python3.6/dist-packages/tensorflow/python/framework/indexed_slices.py:434: UserWarning: Converting sparse IndexedSlices to a dense Tensor of unknown shape. This may consume a large amount of memory.\n",
            "  \"Converting sparse IndexedSlices to a dense Tensor of unknown shape. \"\n"
          ],
          "name": "stderr"
        },
        {
          "output_type": "stream",
          "text": [
            "Train on 22500 samples, validate on 2500 samples\n",
            "Epoch 1/3\n",
            "22500/22500 [==============================] - 171s 8ms/step - loss: 0.6931 - accuracy: 0.5028 - val_loss: 0.6927 - val_accuracy: 0.5100\n",
            "Epoch 2/3\n",
            "22500/22500 [==============================] - 173s 8ms/step - loss: 0.6916 - accuracy: 0.5124 - val_loss: 0.6926 - val_accuracy: 0.4896\n",
            "Epoch 3/3\n",
            "22500/22500 [==============================] - 172s 8ms/step - loss: 0.6848 - accuracy: 0.5081 - val_loss: 0.6893 - val_accuracy: 0.5004\n"
          ],
          "name": "stdout"
        }
      ]
    },
    {
      "cell_type": "code",
      "metadata": {
        "id": "YbdgxpgYCUpd",
        "outputId": "f262fab7-0b42-47d6-fff2-d11214b1b803",
        "colab": {
          "base_uri": "https://localhost:8080/",
          "height": 334
        }
      },
      "source": [
        "plot_model(history)"
      ],
      "execution_count": null,
      "outputs": [
        {
          "output_type": "display_data",
          "data": {
            "image/png": "[encoded data removed]",
            "text/plain": [
              "<Figure size 720x360 with 2 Axes>"
            ]
          },
          "metadata": {
            "tags": [],
            "needs_background": "light"
          }
        }
      ]
    },
    {
      "cell_type": "code",
      "metadata": {
        "id": "Vl1k909bCUpg",
        "outputId": "513ab308-dd8b-4ed5-bee8-a538d1173a3c",
        "colab": {
          "base_uri": "https://localhost:8080/",
          "height": 69
        }
      },
      "source": [
        "score, acc = model.evaluate(X_test, y_test)\n",
        "print('Test score:', score)\n",
        "print('Test accuracy:', acc)"
      ],
      "execution_count": null,
      "outputs": [
        {
          "output_type": "stream",
          "text": [
            "25000/25000 [==============================] - 56s 2ms/step\n",
            "Test score: 0.6925866314315796\n",
            "Test accuracy: 0.516319990158081\n"
          ],
          "name": "stdout"
        }
      ]
    },
    {
      "cell_type": "markdown",
      "metadata": {
        "id": "8dVXFC9YCUpi"
      },
      "source": [
        "### Bidirectional LSTM model <a name=\"bilstm\"></a>"
      ]
    },
    {
      "cell_type": "code",
      "metadata": {
        "id": "FKqoyuHHCUpj",
        "outputId": "371c2425-85b4-4be4-ee54-6952a38c5250",
        "colab": {
          "base_uri": "https://localhost:8080/",
          "height": 283
        }
      },
      "source": [
        "from keras.layers import Bidirectional, Dropout\n",
        "\n",
        "model = Sequential()\n",
        "model.add(Embedding(vocab_size, embedding_dim, input_length= max_length))\n",
        "model.add(Bidirectional(LSTM(64)))\n",
        "model.add(Dropout(0.5))\n",
        "model.add(Dense(1, activation='sigmoid'))\n",
        "\n",
        "model.summary()"
      ],
      "execution_count": null,
      "outputs": [
        {
          "output_type": "stream",
          "text": [
            "Model: \"sequential_5\"\n",
            "_________________________________________________________________\n",
            "Layer (type)                 Output Shape              Param #   \n",
            "=================================================================\n",
            "embedding_5 (Embedding)      (None, 500, 16)           80000     \n",
            "_________________________________________________________________\n",
            "bidirectional_2 (Bidirection (None, 128)               41472     \n",
            "_________________________________________________________________\n",
            "dropout_1 (Dropout)          (None, 128)               0         \n",
            "_________________________________________________________________\n",
            "dense_6 (Dense)              (None, 1)                 129       \n",
            "=================================================================\n",
            "Total params: 121,601\n",
            "Trainable params: 121,601\n",
            "Non-trainable params: 0\n",
            "_________________________________________________________________\n"
          ],
          "name": "stdout"
        }
      ]
    },
    {
      "cell_type": "code",
      "metadata": {
        "id": "tc-FskEuCUpl",
        "outputId": "de5a7c8d-8e41-4a9a-f506-aefe2fe7029b",
        "colab": {
          "base_uri": "https://localhost:8080/",
          "height": 253
        }
      },
      "source": [
        "model.compile(loss='binary_crossentropy',\n",
        "              optimizer='adam',\n",
        "              metrics=['accuracy'])\n",
        "\n",
        "batch_size = 32\n",
        "epochs = 5\n",
        "\n",
        "history = model.fit(X_train, y_train,\n",
        "          batch_size= batch_size,\n",
        "          epochs= epochs,\n",
        "          validation_split= 0.1)"
      ],
      "execution_count": null,
      "outputs": [
        {
          "output_type": "stream",
          "text": [
            "/usr/local/lib/python3.6/dist-packages/tensorflow/python/framework/indexed_slices.py:434: UserWarning: Converting sparse IndexedSlices to a dense Tensor of unknown shape. This may consume a large amount of memory.\n",
            "  \"Converting sparse IndexedSlices to a dense Tensor of unknown shape. \"\n"
          ],
          "name": "stderr"
        },
        {
          "output_type": "stream",
          "text": [
            "Train on 22500 samples, validate on 2500 samples\n",
            "Epoch 1/5\n",
            "22500/22500 [==============================] - 1158s 51ms/step - loss: 0.5467 - accuracy: 0.7272 - val_loss: 0.4356 - val_accuracy: 0.8216\n",
            "Epoch 2/5\n",
            "22500/22500 [==============================] - 1149s 51ms/step - loss: 0.3805 - accuracy: 0.8505 - val_loss: 0.3636 - val_accuracy: 0.8688\n",
            "Epoch 3/5\n",
            "22500/22500 [==============================] - 1135s 50ms/step - loss: 0.3497 - accuracy: 0.8652 - val_loss: 0.3602 - val_accuracy: 0.8464\n",
            "Epoch 4/5\n",
            "22500/22500 [==============================] - 1136s 50ms/step - loss: 0.3331 - accuracy: 0.8726 - val_loss: 0.4000 - val_accuracy: 0.8408\n",
            "Epoch 5/5\n",
            "22500/22500 [==============================] - 1132s 50ms/step - loss: 0.6905 - accuracy: 0.6171 - val_loss: 0.5452 - val_accuracy: 0.7844\n"
          ],
          "name": "stdout"
        }
      ]
    },
    {
      "cell_type": "code",
      "metadata": {
        "id": "5fUg88tvCUpn",
        "outputId": "34b3958e-f49d-4547-b9aa-80920f62ab7c",
        "colab": {
          "base_uri": "https://localhost:8080/",
          "height": 334
        }
      },
      "source": [
        "plot_model(history)"
      ],
      "execution_count": null,
      "outputs": [
        {
          "output_type": "display_data",
          "data": {
            "image/png": "[encoded data removed]",
            "text/plain": [
              "<Figure size 720x360 with 2 Axes>"
            ]
          },
          "metadata": {
            "tags": [],
            "needs_background": "light"
          }
        }
      ]
    },
    {
      "cell_type": "code",
      "metadata": {
        "id": "Hu1TNDNCCUps",
        "outputId": "ceecbd59-f17a-420d-b11c-d3426ae7bd53",
        "colab": {
          "base_uri": "https://localhost:8080/",
          "height": 69
        }
      },
      "source": [
        "score, acc = model.evaluate(X_test, y_test)\n",
        "print('Test score:', score)\n",
        "print('Test accuracy:', acc)"
      ],
      "execution_count": null,
      "outputs": [
        {
          "output_type": "stream",
          "text": [
            "25000/25000 [==============================] - 98s 4ms/step\n",
            "Test score: 0.502443071975708\n",
            "Test accuracy: 0.7494000196456909\n"
          ],
          "name": "stdout"
        }
      ]
    },
    {
      "cell_type": "markdown",
      "metadata": {
        "id": "8UAxWMx2CUpu"
      },
      "source": [
        "### CNN LSTM model <a name=\"cnnlstm\"></a>"
      ]
    },
    {
      "cell_type": "code",
      "metadata": {
        "id": "C0PBala-CUpv",
        "outputId": "ee20e282-96bf-4f60-9fe2-484eb00cf991",
        "colab": {
          "base_uri": "https://localhost:8080/",
          "height": 383
        }
      },
      "source": [
        "from keras.layers import MaxPooling1D, Activation, Conv1D\n",
        "\n",
        "model = Sequential()\n",
        "model.add(Embedding(vocab_size, embedding_dim, input_length= max_length))\n",
        "model.add(Dropout(0.25))\n",
        "model.add(Conv1D(filters = 64, kernel_size= 5, padding='valid', activation='relu', strides=1))\n",
        "model.add(MaxPooling1D(pool_size= 4))\n",
        "model.add(LSTM(70))\n",
        "model.add(Dense(1))\n",
        "model.add(Activation('sigmoid'))\n",
        "\n",
        "\n",
        "model.summary()"
      ],
      "execution_count": null,
      "outputs": [
        {
          "output_type": "stream",
          "text": [
            "Model: \"sequential_7\"\n",
            "_________________________________________________________________\n",
            "Layer (type)                 Output Shape              Param #   \n",
            "=================================================================\n",
            "embedding_7 (Embedding)      (None, 500, 16)           80000     \n",
            "_________________________________________________________________\n",
            "dropout_3 (Dropout)          (None, 500, 16)           0         \n",
            "_________________________________________________________________\n",
            "conv1d_1 (Conv1D)            (None, 496, 64)           5184      \n",
            "_________________________________________________________________\n",
            "max_pooling1d_1 (MaxPooling1 (None, 124, 64)           0         \n",
            "_________________________________________________________________\n",
            "lstm_4 (LSTM)                (None, 70)                37800     \n",
            "_________________________________________________________________\n",
            "dense_7 (Dense)              (None, 1)                 71        \n",
            "_________________________________________________________________\n",
            "activation_1 (Activation)    (None, 1)                 0         \n",
            "=================================================================\n",
            "Total params: 123,055\n",
            "Trainable params: 123,055\n",
            "Non-trainable params: 0\n",
            "_________________________________________________________________\n"
          ],
          "name": "stdout"
        }
      ]
    },
    {
      "cell_type": "code",
      "metadata": {
        "id": "hAwMsx8SCUpy",
        "outputId": "18738def-c67e-403d-ad52-da5d45d177d0",
        "colab": {
          "base_uri": "https://localhost:8080/",
          "height": 420
        }
      },
      "source": [
        "model.compile(loss='binary_crossentropy',\n",
        "              optimizer='adam',\n",
        "              metrics=['accuracy'])\n",
        "\n",
        "batch_size = 32\n",
        "epochs = 10\n",
        "\n",
        "history = model.fit(X_train, y_train,\n",
        "          batch_size= batch_size,\n",
        "          epochs= epochs,\n",
        "          validation_split= 0.1)"
      ],
      "execution_count": null,
      "outputs": [
        {
          "output_type": "stream",
          "text": [
            "/usr/local/lib/python3.6/dist-packages/tensorflow/python/framework/indexed_slices.py:434: UserWarning: Converting sparse IndexedSlices to a dense Tensor of unknown shape. This may consume a large amount of memory.\n",
            "  \"Converting sparse IndexedSlices to a dense Tensor of unknown shape. \"\n"
          ],
          "name": "stderr"
        },
        {
          "output_type": "stream",
          "text": [
            "Train on 22500 samples, validate on 2500 samples\n",
            "Epoch 1/10\n",
            "22500/22500 [==============================] - 138s 6ms/step - loss: 0.3419 - accuracy: 0.8643 - val_loss: 0.3206 - val_accuracy: 0.8696\n",
            "Epoch 2/10\n",
            "22500/22500 [==============================] - 138s 6ms/step - loss: 0.2572 - accuracy: 0.9015 - val_loss: 0.2802 - val_accuracy: 0.8884\n",
            "Epoch 3/10\n",
            "22500/22500 [==============================] - 137s 6ms/step - loss: 0.2156 - accuracy: 0.9192 - val_loss: 0.2602 - val_accuracy: 0.8972\n",
            "Epoch 4/10\n",
            "22500/22500 [==============================] - 137s 6ms/step - loss: 0.1848 - accuracy: 0.9320 - val_loss: 0.2685 - val_accuracy: 0.9008\n",
            "Epoch 5/10\n",
            "22500/22500 [==============================] - 136s 6ms/step - loss: 0.1561 - accuracy: 0.9464 - val_loss: 0.2658 - val_accuracy: 0.9000\n",
            "Epoch 6/10\n",
            "22500/22500 [==============================] - 136s 6ms/step - loss: 0.1376 - accuracy: 0.9541 - val_loss: 0.2820 - val_accuracy: 0.8972\n",
            "Epoch 7/10\n",
            "22500/22500 [==============================] - 136s 6ms/step - loss: 0.1212 - accuracy: 0.9607 - val_loss: 0.3046 - val_accuracy: 0.8904\n",
            "Epoch 8/10\n",
            "22500/22500 [==============================] - 136s 6ms/step - loss: 0.1083 - accuracy: 0.9657 - val_loss: 0.3346 - val_accuracy: 0.8916\n",
            "Epoch 9/10\n",
            "22500/22500 [==============================] - 136s 6ms/step - loss: 0.0964 - accuracy: 0.9697 - val_loss: 0.3155 - val_accuracy: 0.8916\n",
            "Epoch 10/10\n",
            "22500/22500 [==============================] - 136s 6ms/step - loss: 0.0874 - accuracy: 0.9737 - val_loss: 0.3326 - val_accuracy: 0.8912\n"
          ],
          "name": "stdout"
        }
      ]
    },
    {
      "cell_type": "code",
      "metadata": {
        "id": "LIot3spVCUp3"
      },
      "source": [
        "plot_model(history)"
      ],
      "execution_count": null,
      "outputs": []
    },
    {
      "cell_type": "code",
      "metadata": {
        "id": "dMvkuctnCUp7"
      },
      "source": [
        "score, acc = model.evaluate(X_test, y_test)\n",
        "print('Test score:', score)\n",
        "print('Test accuracy:', acc)"
      ],
      "execution_count": null,
      "outputs": []
    }
  ]
}